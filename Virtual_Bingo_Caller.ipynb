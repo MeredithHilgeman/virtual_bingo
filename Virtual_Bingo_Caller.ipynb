{
 "cells": [
  {
   "cell_type": "code",
   "execution_count": null,
   "metadata": {
    "tags": []
   },
   "outputs": [],
   "source": [
    "#import necessary libraries/packages\n",
    "import random\n",
    "import pandas as pd"
   ]
  },
  {
   "cell_type": "code",
   "execution_count": null,
   "metadata": {
    "tags": []
   },
   "outputs": [],
   "source": [
    "#evaluation function\n",
    "def check_bingo(df_to_check,list_to_compare):\n",
    "    #get list read to compare to called numbers\n",
    "    called_picks_compare = set(list_to_compare)\n",
    "    \n",
    "    corners = [\n",
    "        df_check.iloc[0,0], #Top Left \n",
    "        df_check.iloc[0,4], #Top Right\n",
    "        df_check.iloc[4,0], #Bottom Left\n",
    "        df_check.iloc[4,4], #Bottom Right\n",
    "    ]\n",
    "    \n",
    "    #check rows, columns, and diagonals for bingo\n",
    "    #first row check\n",
    "    if not set(df_to_check.iloc[0].tolist()) - called_picks_compare:\n",
    "        print(\"Bingo!\")\n",
    "    #second row check\n",
    "    elif not set(df_to_check.iloc[1].tolist()) - called_picks_compare:\n",
    "        print(\"Bingo!\")\n",
    "    #third row check\n",
    "    elif not set(df_to_check.iloc[2].tolist()) - called_picks_compare:\n",
    "        print(\"Bingo!\")\n",
    "    #fourth row check\n",
    "    elif not set(df_to_check.iloc[3].tolist()) - called_picks_compare:\n",
    "        print(\"Bingo!\")\n",
    "    #fifth row check\n",
    "    elif not set(df_to_check.iloc[4].tolist()) - called_picks_compare:\n",
    "        print(\"Bingo!\")\n",
    "    #first column check\n",
    "    elif not set(df_to_check.iloc[:,0].tolist()) - called_picks_compare:\n",
    "        print(\"Bingo!\")\n",
    "    #second column check\n",
    "    elif not set(df_to_check.iloc[:,1].tolist()) - called_picks_compare:\n",
    "        print(\"Bingo!\")\n",
    "    #third column check\n",
    "    elif not set(df_to_check.iloc[:,2].tolist()) - called_picks_compare:\n",
    "        print(\"Bingo!\")\n",
    "    #fourth column check\n",
    "    elif not set(df_to_check.iloc[:,3].tolist()) - called_picks_compare:\n",
    "        print(\"Bingo!\")\n",
    "    #fifth column check\n",
    "    elif not set(df_to_check.iloc[:,4].tolist()) - called_picks_compare:\n",
    "        print(\"Bingo!\")\n",
    "    #first diagonal check\n",
    "    elif not set([df_to_check.iloc[i,i] for i in range(5)]) - called_picks_compare:\n",
    "        print(\"Bingo!\")\n",
    "    #second diagonal check\n",
    "    elif not set([df_to_check.iloc[i,4-i] for i in range(5)]) - called_picks_compare:\n",
    "        print(\"Bingo!\")\n",
    "    #four corners check\n",
    "    elif not set(corners) - called_picks_compare:\n",
    "        print(\"Bingo!\")\n",
    "    else:\n",
    "        print(\"No Bingo Yet\")"
   ]
  },
  {
   "cell_type": "markdown",
   "metadata": {},
   "source": [
    "## Generate Game | Only Run The Cell Below Once"
   ]
  },
  {
   "cell_type": "code",
   "execution_count": null,
   "metadata": {
    "tags": []
   },
   "outputs": [],
   "source": [
    "#generate number list\n",
    "number_list = list(range(1,76))\n",
    "random.shuffle(number_list)"
   ]
  },
  {
   "cell_type": "code",
   "execution_count": null,
   "metadata": {
    "tags": []
   },
   "outputs": [],
   "source": [
    "#generate empty list of called picsk to add to as game progresses\n",
    "#helpful for checking cards when someone wins\n",
    "called_picks = list()\n",
    "display_picks = list()"
   ]
  },
  {
   "cell_type": "markdown",
   "metadata": {},
   "source": [
    "## Generate Picks | Run The Cell Below Once For Each Cell"
   ]
  },
  {
   "cell_type": "code",
   "execution_count": null,
   "metadata": {
    "tags": []
   },
   "outputs": [],
   "source": [
    "#pick number\n",
    "pick = random.sample(number_list,1)\n",
    "#remove number from list so it doesn't get picked again\n",
    "number_list.remove(pick[0])\n",
    "\n",
    "#assign pick a letter\n",
    "if pick[0] <= 15:\n",
    "    letter = 'b'\n",
    "elif pick[0] > 15 and pick[0] <= 30:\n",
    "    letter = 'i'\n",
    "elif pick[0] > 30 and pick[0] <= 45:\n",
    "    letter = 'n'\n",
    "elif pick[0] > 45 and pick[0] <= 60:\n",
    "    letter = 'g'\n",
    "else:\n",
    "    letter = 'o'\n",
    "    \n",
    "#display pick (letter and number)\n",
    "pick_display = letter+str(pick[0])\n",
    "print(pick_display)\n",
    "\n",
    "#add pick to a list\n",
    "called_picks.append(pick[0])\n",
    "#display list so can check people's cards when they win\n",
    "display_picks.append(pick_display)\n",
    "print(display_picks)"
   ]
  },
  {
   "cell_type": "markdown",
   "metadata": {},
   "source": [
    "## Manually enter numbers for checking a card"
   ]
  },
  {
   "cell_type": "code",
   "execution_count": null,
   "metadata": {
    "tags": []
   },
   "outputs": [],
   "source": [
    "#Manually enter numbers\n",
    "bingo_card = {\n",
    "    'B': [0, 0, 0, 0, 0],\n",
    "    'I': [0, 0, 0, 0, 0],\n",
    "    'N': [0, 0, 'FREE', 0, 0],\n",
    "    'G': [0, 0, 0, 0, 0],\n",
    "    'O': [0, 0, 0, 0, 0]\n",
    "}"
   ]
  },
  {
   "cell_type": "code",
   "execution_count": null,
   "metadata": {
    "tags": []
   },
   "outputs": [],
   "source": [
    "#Create the DataFrame for Checking\n",
    "df_check = pd.DataFrame(bingo_card)\n",
    "\n",
    "#Check for Bingo\n",
    "check_bingo(df_check,called_picks)"
   ]
  },
  {
   "cell_type": "code",
   "execution_count": null,
   "metadata": {},
   "outputs": [],
   "source": []
  }
 ],
 "metadata": {
  "environment": {
   "kernel": "conda-base-py",
   "name": "workbench-notebooks.m126",
   "type": "gcloud",
   "uri": "us-docker.pkg.dev/deeplearning-platform-release/gcr.io/workbench-notebooks:m126"
  },
  "kernelspec": {
   "display_name": "Python 3 (ipykernel)",
   "language": "python",
   "name": "conda-base-py"
  },
  "language_info": {
   "codemirror_mode": {
    "name": "ipython",
    "version": 3
   },
   "file_extension": ".py",
   "mimetype": "text/x-python",
   "name": "python",
   "nbconvert_exporter": "python",
   "pygments_lexer": "ipython3",
   "version": "3.10.15"
  }
 },
 "nbformat": 4,
 "nbformat_minor": 4
}
