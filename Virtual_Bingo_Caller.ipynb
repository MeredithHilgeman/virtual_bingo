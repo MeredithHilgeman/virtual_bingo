{
 "cells": [
  {
   "cell_type": "code",
   "execution_count": 1,
   "metadata": {},
   "outputs": [],
   "source": [
    "#import necessary libraries/packages\n",
    "import random"
   ]
  },
  {
   "cell_type": "markdown",
   "metadata": {},
   "source": [
    "## Generate Game | Only Run The Cell Below Once"
   ]
  },
  {
   "cell_type": "code",
   "execution_count": 2,
   "metadata": {},
   "outputs": [],
   "source": [
    "#generate number list\n",
    "number_list = list(range(1,76))\n",
    "random.shuffle(number_list)"
   ]
  },
  {
   "cell_type": "code",
   "execution_count": 3,
   "metadata": {},
   "outputs": [],
   "source": [
    "#generate empty list of called picsk to add to as game progresses\n",
    "#helpful for checking cards when someone wins\n",
    "called_picks = list()"
   ]
  },
  {
   "cell_type": "markdown",
   "metadata": {},
   "source": [
    "## Generate Picks | Run The Cell Below Once For Each Cell"
   ]
  },
  {
   "cell_type": "code",
   "execution_count": 6,
   "metadata": {},
   "outputs": [
    {
     "name": "stdout",
     "output_type": "stream",
     "text": [
      "g51\n",
      "['n32', 'i26', 'g51']\n"
     ]
    }
   ],
   "source": [
    "#pick number\n",
    "pick = random.sample(number_list,1)\n",
    "#remove number from list so it doesn't get picked again\n",
    "number_list.remove(pick[0])\n",
    "\n",
    "#assign pick a letter\n",
    "if pick[0] <= 15:\n",
    "    letter = 'b'\n",
    "elif pick[0] > 15 and pick[0] <= 30:\n",
    "    letter = 'i'\n",
    "elif pick[0] > 30 and pick[0] <= 45:\n",
    "    letter = 'n'\n",
    "elif pick[0] > 45 and pick[0] <= 60:\n",
    "    letter = 'g'\n",
    "else:\n",
    "    letter = 'o'\n",
    "    \n",
    "#display pick (letter and number)\n",
    "pick = letter+str(pick[0])\n",
    "print(pick)\n",
    "\n",
    "#add pick to a list\n",
    "called_picks.append(pick)\n",
    "#display list so can check people's cards when they win\n",
    "print(called_picks)"
   ]
  },
  {
   "cell_type": "code",
   "execution_count": null,
   "metadata": {},
   "outputs": [],
   "source": []
  }
 ],
 "metadata": {
  "kernelspec": {
   "display_name": "Python 3",
   "language": "python",
   "name": "python3"
  },
  "language_info": {
   "codemirror_mode": {
    "name": "ipython",
    "version": 3
   },
   "file_extension": ".py",
   "mimetype": "text/x-python",
   "name": "python",
   "nbconvert_exporter": "python",
   "pygments_lexer": "ipython3",
   "version": "3.6.5"
  }
 },
 "nbformat": 4,
 "nbformat_minor": 2
}
